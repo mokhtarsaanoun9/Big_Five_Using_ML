{
 "cells": [
  {
   "cell_type": "code",
   "execution_count": null,
   "id": "bdd59357-e0df-4dad-aadb-865d8b777d11",
   "metadata": {},
   "outputs": [],
   "source": [
    "############Cassandra"
   ]
  },
  {
   "cell_type": "code",
   "execution_count": 1,
   "id": "7c4abee9",
   "metadata": {},
   "outputs": [
    {
     "name": "stdout",
     "output_type": "stream",
     "text": [
      "Requirement already satisfied: cassandra-driver in c:\\users\\user\\anaconda3\\lib\\site-packages (3.29.2)\n",
      "Requirement already satisfied: pandas in c:\\users\\user\\anaconda3\\lib\\site-packages (2.2.3)\n",
      "Requirement already satisfied: geomet<0.3,>=0.1 in c:\\users\\user\\anaconda3\\lib\\site-packages (from cassandra-driver) (0.2.1.post1)\n",
      "Requirement already satisfied: numpy>=1.23.2 in c:\\users\\user\\appdata\\roaming\\python\\python311\\site-packages (from pandas) (1.26.4)\n",
      "Requirement already satisfied: python-dateutil>=2.8.2 in c:\\users\\user\\anaconda3\\lib\\site-packages (from pandas) (2.9.0.post0)\n",
      "Requirement already satisfied: pytz>=2020.1 in c:\\users\\user\\anaconda3\\lib\\site-packages (from pandas) (2025.1)\n",
      "Requirement already satisfied: tzdata>=2022.7 in c:\\users\\user\\anaconda3\\lib\\site-packages (from pandas) (2025.1)\n",
      "Requirement already satisfied: click in c:\\users\\user\\anaconda3\\lib\\site-packages (from geomet<0.3,>=0.1->cassandra-driver) (8.1.7)\n",
      "Requirement already satisfied: six in c:\\users\\user\\anaconda3\\lib\\site-packages (from geomet<0.3,>=0.1->cassandra-driver) (1.17.0)\n",
      "Requirement already satisfied: colorama in c:\\users\\user\\appdata\\roaming\\python\\python311\\site-packages (from click->geomet<0.3,>=0.1->cassandra-driver) (0.4.6)\n"
     ]
    }
   ],
   "source": [
    "!pip install cassandra-driver pandas"
   ]
  },
  {
   "cell_type": "code",
   "execution_count": 9,
   "id": "e90a4053",
   "metadata": {},
   "outputs": [],
   "source": [
    "from cassandra.cluster import Cluster\n",
    "import pandas as pd\n"
   ]
  },
  {
   "cell_type": "code",
   "execution_count": 17,
   "id": "fbdba600",
   "metadata": {},
   "outputs": [],
   "source": [
    "\n",
    "cluster = Cluster(['127.0.0.1'], port=9042)\n",
    "session = cluster.connect()\n",
    "session.set_keyspace(\"movies\")\n"
   ]
  },
  {
   "cell_type": "code",
   "execution_count": 18,
   "id": "846bd39b",
   "metadata": {},
   "outputs": [],
   "source": [
    "import pandas as pd\n",
    "df = pd.read_csv(\"ratings.csv\")\n"
   ]
  },
  {
   "cell_type": "code",
   "execution_count": 19,
   "id": "73bafbb9",
   "metadata": {},
   "outputs": [],
   "source": [
    "insert_query = \"\"\"\n",
    "INSERT INTO ratings (user_id, movie_id, rating, rating_timestamp)\n",
    "VALUES (?, ?, ?, ?)\n",
    "\"\"\"\n",
    "prepared = session.prepare(insert_query)\n"
   ]
  },
  {
   "cell_type": "code",
   "execution_count": 21,
   "id": "24286487",
   "metadata": {},
   "outputs": [],
   "source": [
    "from cassandra.query import BatchStatement\n",
    "\n",
    "batch = BatchStatement()\n",
    "count = 0\n",
    "\n",
    "for i, row in df.iterrows():\n",
    "    batch.add(prepared, (\n",
    "        int(row.userId),\n",
    "        int(row.movieId),\n",
    "        float(row.rating),\n",
    "        datetime.utcfromtimestamp(int(row.timestamp))\n",
    "    ))\n",
    "    count += 1\n",
    "    if count % 100 == 0:\n",
    "        session.execute(batch)\n",
    "        batch.clear()\n",
    "\n",
    "# Exécuter les restes\n",
    "if batch:\n",
    "    session.execute(batch)\n"
   ]
  },
  {
   "cell_type": "code",
   "execution_count": 22,
   "id": "7921b674",
   "metadata": {},
   "outputs": [
    {
     "name": "stdout",
     "output_type": "stream",
     "text": [
      "Row(user_id=23, movie_id=6, rating=4.0, rating_timestamp=datetime.datetime(2005, 2, 2, 11, 4, 27))\n",
      "Row(user_id=23, movie_id=29, rating=4.0, rating_timestamp=datetime.datetime(2005, 2, 2, 10, 52, 54))\n",
      "Row(user_id=23, movie_id=32, rating=3.5, rating_timestamp=datetime.datetime(2005, 2, 2, 10, 55, 50))\n",
      "Row(user_id=23, movie_id=50, rating=4.0, rating_timestamp=datetime.datetime(2005, 1, 31, 9, 29, 1))\n",
      "Row(user_id=23, movie_id=58, rating=3.0, rating_timestamp=datetime.datetime(2005, 1, 31, 9, 36, 23))\n"
     ]
    }
   ],
   "source": [
    "rows = session.execute(\"SELECT * FROM ratings LIMIT 5\")\n",
    "for r in rows:\n",
    "    print(r)"
   ]
  },
  {
   "cell_type": "code",
   "execution_count": 23,
   "id": "46e31156",
   "metadata": {},
   "outputs": [],
   "source": [
    "session.shutdown()\n",
    "cluster.shutdown()\n"
   ]
  },
  {
   "cell_type": "code",
   "execution_count": 24,
   "id": "64f7caef",
   "metadata": {},
   "outputs": [
    {
     "name": "stdout",
     "output_type": "stream",
     "text": [
      "Total enregistrements : 100839\n"
     ]
    }
   ],
   "source": [
    "# Étape 7 – Nombre total d'enregistrements\n",
    "cluster = Cluster(['127.0.0.1'], port=9042)\n",
    "session = cluster.connect(\"movies\")\n",
    "count = session.execute(\"SELECT COUNT(*) FROM ratings\")\n",
    "print(f\"Total enregistrements : {list(count)[0].count}\")\n",
    "session.shutdown()\n",
    "cluster.shutdown()\n"
   ]
  },
  {
   "cell_type": "code",
   "execution_count": 1,
   "id": "4bd8d4a9-b601-4a28-ac97-9dd3d36cdfce",
   "metadata": {},
   "outputs": [],
   "source": [
    "##########PartieNeo4J"
   ]
  },
  {
   "cell_type": "code",
   "execution_count": 3,
   "id": "5cdc4542-2c00-4ced-8c07-b716cc97cfe7",
   "metadata": {},
   "outputs": [
    {
     "name": "stdout",
     "output_type": "stream",
     "text": [
      "Collecting neo4j\n",
      "  Downloading neo4j-5.28.1-py3-none-any.whl.metadata (5.9 kB)\n",
      "Requirement already satisfied: pytz in c:\\programdata\\anaconda3\\lib\\site-packages (from neo4j) (2024.1)\n",
      "Downloading neo4j-5.28.1-py3-none-any.whl (312 kB)\n",
      "Installing collected packages: neo4j\n",
      "Successfully installed neo4j-5.28.1\n",
      "Note: you may need to restart the kernel to use updated packages.\n"
     ]
    }
   ],
   "source": [
    "pip install neo4j\n"
   ]
  },
  {
   "cell_type": "code",
   "execution_count": 8,
   "id": "3ae8d36e-9530-47e9-9916-f6f101dc5e6f",
   "metadata": {},
   "outputs": [],
   "source": [
    "import csv\n",
    "from neo4j import GraphDatabase\n"
   ]
  },
  {
   "cell_type": "code",
   "execution_count": 9,
   "id": "18b32566-b2c0-45f5-b3c5-72783e4721f5",
   "metadata": {},
   "outputs": [],
   "source": [
    "URI = \"bolt://localhost:7687\"\n",
    "USER = \"neo4j\"\n",
    "PASSWORD = \"idriss123\"\n",
    "\n",
    "driver = GraphDatabase.driver(URI, auth=(USER, PASSWORD))\n"
   ]
  },
  {
   "cell_type": "code",
   "execution_count": 10,
   "id": "00ea5f3d-766a-4d4e-b6d2-b6677d7771af",
   "metadata": {},
   "outputs": [
    {
     "name": "stdout",
     "output_type": "stream",
     "text": [
      "100836 lignes lues.\n"
     ]
    }
   ],
   "source": [
    "with open('ratings.csv', 'r', encoding='utf-8') as f:\n",
    "    reader = csv.reader(f)\n",
    "    next(reader)  # Ignorer l'en-tête\n",
    "    data = list(reader)\n",
    "\n",
    "print(f\"{len(data)} lignes lues.\")\n"
   ]
  },
  {
   "cell_type": "code",
   "execution_count": 11,
   "id": "aaee4032-1241-4116-abe8-75fc937c3e60",
   "metadata": {},
   "outputs": [
    {
     "name": "stdout",
     "output_type": "stream",
     "text": [
      "100836 relations RATED insérées.\n"
     ]
    }
   ],
   "source": [
    "with driver.session() as session:\n",
    "    count = 0\n",
    "    for row in data:\n",
    "        user_id = int(row[0])\n",
    "        movie_id = int(row[1])\n",
    "        rating = float(row[2])\n",
    "        timestamp = int(row[3])\n",
    "\n",
    "        query = \"\"\"\n",
    "        MERGE (u:User {id: $user_id})\n",
    "        MERGE (m:Movie {id: $movie_id})\n",
    "        MERGE (u)-[r:RATED]->(m)\n",
    "        SET r.rating = $rating, r.timestamp = $timestamp\n",
    "        \"\"\"\n",
    "        session.run(query, user_id=user_id, movie_id=movie_id, rating=rating, timestamp=timestamp)\n",
    "        count += 1\n",
    "\n",
    "print(f\"{count} relations RATED insérées.\")\n"
   ]
  },
  {
   "cell_type": "code",
   "execution_count": 12,
   "id": "97b04b5b-8003-4247-8fa8-36ca48f0e704",
   "metadata": {},
   "outputs": [
    {
     "name": "stdout",
     "output_type": "stream",
     "text": [
      "<Record userId=1 rating=4.0 movieId=1>\n",
      "<Record userId=1 rating=4.0 movieId=3>\n",
      "<Record userId=1 rating=4.0 movieId=6>\n",
      "<Record userId=1 rating=5.0 movieId=47>\n",
      "<Record userId=1 rating=5.0 movieId=50>\n"
     ]
    }
   ],
   "source": [
    "with driver.session() as session:\n",
    "    result = session.run(\"\"\"\n",
    "        MATCH (u:User)-[r:RATED]->(m:Movie)\n",
    "        RETURN u.id AS userId, r.rating AS rating, m.id AS movieId\n",
    "        LIMIT 5\n",
    "    \"\"\")\n",
    "    for record in result:\n",
    "        print(record)\n"
   ]
  },
  {
   "cell_type": "code",
   "execution_count": 13,
   "id": "0365dd3c-135d-4a6a-9c21-4b21bed4e0b0",
   "metadata": {},
   "outputs": [],
   "source": [
    "driver.close()\n"
   ]
  },
  {
   "cell_type": "code",
   "execution_count": null,
   "id": "5fa74b4a-ab36-4d5a-b849-11dbcb671811",
   "metadata": {},
   "outputs": [],
   "source": [
    "################\"elasticsearch"
   ]
  },
  {
   "cell_type": "code",
   "execution_count": 14,
   "id": "fa5b6cb4-161d-48dd-8eaa-f7e131959c62",
   "metadata": {},
   "outputs": [
    {
     "name": "stdout",
     "output_type": "stream",
     "text": [
      "Collecting elasticsearchNote: you may need to restart the kernel to use updated packages.\n",
      "\n",
      "  Downloading elasticsearch-9.0.1-py3-none-any.whl.metadata (8.5 kB)\n",
      "Collecting elastic-transport<9,>=8.15.1 (from elasticsearch)\n",
      "  Downloading elastic_transport-8.17.1-py3-none-any.whl.metadata (3.8 kB)\n",
      "Requirement already satisfied: python-dateutil in c:\\programdata\\anaconda3\\lib\\site-packages (from elasticsearch) (2.9.0.post0)\n",
      "Requirement already satisfied: typing-extensions in c:\\programdata\\anaconda3\\lib\\site-packages (from elasticsearch) (4.11.0)\n",
      "Requirement already satisfied: urllib3<3,>=1.26.2 in c:\\programdata\\anaconda3\\lib\\site-packages (from elastic-transport<9,>=8.15.1->elasticsearch) (2.2.3)\n",
      "Requirement already satisfied: certifi in c:\\programdata\\anaconda3\\lib\\site-packages (from elastic-transport<9,>=8.15.1->elasticsearch) (2025.4.26)\n",
      "Requirement already satisfied: six>=1.5 in c:\\programdata\\anaconda3\\lib\\site-packages (from python-dateutil->elasticsearch) (1.16.0)\n",
      "Downloading elasticsearch-9.0.1-py3-none-any.whl (905 kB)\n",
      "   ---------------------------------------- 0.0/905.5 kB ? eta -:--:--\n",
      "   ----------- ---------------------------- 262.1/905.5 kB ? eta -:--:--\n",
      "   ---------------------------------------- 905.5/905.5 kB 3.4 MB/s eta 0:00:00\n",
      "Downloading elastic_transport-8.17.1-py3-none-any.whl (64 kB)\n",
      "Installing collected packages: elastic-transport, elasticsearch\n",
      "Successfully installed elastic-transport-8.17.1 elasticsearch-9.0.1\n"
     ]
    }
   ],
   "source": [
    "pip install elasticsearch\n"
   ]
  },
  {
   "cell_type": "code",
   "execution_count": 30,
   "id": "f93787d2-eb30-4a49-a584-7c5e9d031a98",
   "metadata": {},
   "outputs": [],
   "source": [
    "import csv\n",
    "from elasticsearch import Elasticsearch, helpers\n",
    "import pandas as pd\n"
   ]
  },
  {
   "cell_type": "code",
   "execution_count": 31,
   "id": "03965fbb-2d11-4e54-9270-8f374e40ceb9",
   "metadata": {},
   "outputs": [
    {
     "name": "stdout",
     "output_type": "stream",
     "text": [
      " Connexion Elasticsearch réussie\n"
     ]
    }
   ],
   "source": [
    "es = Elasticsearch(\"http://localhost:9200\")\n",
    "\n",
    "# Vérification\n",
    "if es.ping():\n",
    "    print(\" Connexion Elasticsearch réussie\")\n",
    "else:\n",
    "    print(\" Connexion échouée\")\n"
   ]
  },
  {
   "cell_type": "code",
   "execution_count": 32,
   "id": "896aa178-1c1b-4fcd-96ad-c3602b1cb5a9",
   "metadata": {},
   "outputs": [
    {
     "data": {
      "text/html": [
       "<div>\n",
       "<style scoped>\n",
       "    .dataframe tbody tr th:only-of-type {\n",
       "        vertical-align: middle;\n",
       "    }\n",
       "\n",
       "    .dataframe tbody tr th {\n",
       "        vertical-align: top;\n",
       "    }\n",
       "\n",
       "    .dataframe thead th {\n",
       "        text-align: right;\n",
       "    }\n",
       "</style>\n",
       "<table border=\"1\" class=\"dataframe\">\n",
       "  <thead>\n",
       "    <tr style=\"text-align: right;\">\n",
       "      <th></th>\n",
       "      <th>userId</th>\n",
       "      <th>movieId</th>\n",
       "      <th>rating</th>\n",
       "      <th>timestamp</th>\n",
       "    </tr>\n",
       "  </thead>\n",
       "  <tbody>\n",
       "    <tr>\n",
       "      <th>0</th>\n",
       "      <td>1</td>\n",
       "      <td>1</td>\n",
       "      <td>4.0</td>\n",
       "      <td>964982703</td>\n",
       "    </tr>\n",
       "    <tr>\n",
       "      <th>1</th>\n",
       "      <td>1</td>\n",
       "      <td>3</td>\n",
       "      <td>4.0</td>\n",
       "      <td>964981247</td>\n",
       "    </tr>\n",
       "    <tr>\n",
       "      <th>2</th>\n",
       "      <td>1</td>\n",
       "      <td>6</td>\n",
       "      <td>4.0</td>\n",
       "      <td>964982224</td>\n",
       "    </tr>\n",
       "    <tr>\n",
       "      <th>3</th>\n",
       "      <td>1</td>\n",
       "      <td>47</td>\n",
       "      <td>5.0</td>\n",
       "      <td>964983815</td>\n",
       "    </tr>\n",
       "    <tr>\n",
       "      <th>4</th>\n",
       "      <td>1</td>\n",
       "      <td>50</td>\n",
       "      <td>5.0</td>\n",
       "      <td>964982931</td>\n",
       "    </tr>\n",
       "  </tbody>\n",
       "</table>\n",
       "</div>"
      ],
      "text/plain": [
       "   userId  movieId  rating  timestamp\n",
       "0       1        1     4.0  964982703\n",
       "1       1        3     4.0  964981247\n",
       "2       1        6     4.0  964982224\n",
       "3       1       47     5.0  964983815\n",
       "4       1       50     5.0  964982931"
      ]
     },
     "execution_count": 32,
     "metadata": {},
     "output_type": "execute_result"
    }
   ],
   "source": [
    "df = pd.read_csv(\"ratings.csv\")\n",
    "df.head()\n"
   ]
  },
  {
   "cell_type": "code",
   "execution_count": 33,
   "id": "db550734-b440-4619-bb25-7034179c6e66",
   "metadata": {},
   "outputs": [],
   "source": [
    "def doc_generator(df):\n",
    "    for index, document in df.iterrows():\n",
    "        yield {\n",
    "            \"_index\": \"ratings\",\n",
    "            \"_id\": f\"{document['userId']}_{document['movieId']}\",\n",
    "            \"_source\": {\n",
    "                \"userId\": int(document[\"userId\"]),\n",
    "                \"movieId\": int(document[\"movieId\"]),\n",
    "                \"rating\": float(document[\"rating\"]),\n",
    "                \"timestamp\": int(document[\"timestamp\"])\n",
    "            },\n",
    "        }\n"
   ]
  },
  {
   "cell_type": "code",
   "execution_count": 34,
   "id": "8e6e34a4-6536-4de1-856b-7d4675a7a9b1",
   "metadata": {},
   "outputs": [
    {
     "name": "stdout",
     "output_type": "stream",
     "text": [
      " Insertion terminée : 100836 documents\n"
     ]
    }
   ],
   "source": [
    "helpers.bulk(es, doc_generator(df))\n",
    "print(f\" Insertion terminée : {len(df)} documents\")\n"
   ]
  },
  {
   "cell_type": "code",
   "execution_count": 35,
   "id": "92c6e027-06e2-4eb9-a51b-bfc1b6f17a60",
   "metadata": {},
   "outputs": [
    {
     "name": "stdout",
     "output_type": "stream",
     "text": [
      "{'userId': 1, 'movieId': 1, 'rating': 4.0, 'timestamp': 964982703}\n",
      "{'userId': 1, 'movieId': 3, 'rating': 4.0, 'timestamp': 964981247}\n",
      "{'userId': 1, 'movieId': 6, 'rating': 4.0, 'timestamp': 964982224}\n",
      "{'userId': 1, 'movieId': 47, 'rating': 5.0, 'timestamp': 964983815}\n",
      "{'userId': 1, 'movieId': 50, 'rating': 5.0, 'timestamp': 964982931}\n"
     ]
    }
   ],
   "source": [
    "res = es.search(index=\"ratings\", query={\"match_all\": {}}, size=5)\n",
    "\n",
    "for hit in res[\"hits\"][\"hits\"]:\n",
    "    print(hit[\"_source\"])\n"
   ]
  },
  {
   "cell_type": "code",
   "execution_count": 36,
   "id": "1af86ea9-b21f-462b-ab31-5da9b5132730",
   "metadata": {},
   "outputs": [
    {
     "name": "stdout",
     "output_type": "stream",
     "text": [
      "Film 356 - Moyenne : 4.18\n",
      "Film 318 - Moyenne : 4.44\n",
      "Film 296 - Moyenne : 4.19\n",
      "Film 593 - Moyenne : 4.15\n",
      "Film 2571 - Moyenne : 4.18\n",
      "Film 260 - Moyenne : 4.23\n",
      "Film 480 - Moyenne : 3.76\n",
      "Film 110 - Moyenne : 4.06\n",
      "Film 589 - Moyenne : 3.98\n",
      "Film 527 - Moyenne : 4.23\n"
     ]
    }
   ],
   "source": [
    "query = {\n",
    "  \"size\": 0,\n",
    "  \"aggs\": {\n",
    "    \"moyenne_par_film\": {\n",
    "      \"terms\": { \"field\": \"movieId\", \"size\": 10 },\n",
    "      \"aggs\": {\n",
    "        \"note_moyenne\": { \"avg\": { \"field\": \"rating\" } }\n",
    "      }\n",
    "    }\n",
    "  }\n",
    "}\n",
    "\n",
    "res = es.search(index=\"ratings\", body=query)\n",
    "for bucket in res[\"aggregations\"][\"moyenne_par_film\"][\"buckets\"]:\n",
    "    print(f\"Film {bucket['key']} - Moyenne : {bucket['note_moyenne']['value']:.2f}\")\n"
   ]
  },
  {
   "cell_type": "code",
   "execution_count": 38,
   "id": "94f9c351-d8b9-4bba-bd85-8a1d431baf86",
   "metadata": {},
   "outputs": [
    {
     "name": "stdout",
     "output_type": "stream",
     "text": [
      " Utilisateur 414 – Moyenne : 3.39\n",
      " Utilisateur 599 – Moyenne : 2.64\n",
      " Utilisateur 474 – Moyenne : 3.40\n",
      " Utilisateur 448 – Moyenne : 2.85\n",
      " Utilisateur 274 – Moyenne : 3.24\n"
     ]
    }
   ],
   "source": [
    "query = {\n",
    "  \"size\": 0,\n",
    "  \"aggs\": {\n",
    "    \"moyenne_par_user\": {\n",
    "      \"terms\": { \"field\": \"userId\", \"size\": 5 },\n",
    "      \"aggs\": {\n",
    "        \"note_moyenne\": { \"avg\": { \"field\": \"rating\" } }\n",
    "      }\n",
    "    }\n",
    "  }\n",
    "}\n",
    "\n",
    "res = es.search(index=\"ratings\", body=query)\n",
    "for bucket in res[\"aggregations\"][\"moyenne_par_user\"][\"buckets\"]:\n",
    "    print(f\" Utilisateur {bucket['key']} – Moyenne : {bucket['note_moyenne']['value']:.2f}\")\n"
   ]
  },
  {
   "cell_type": "code",
   "execution_count": 40,
   "id": "05dbc24f-4f70-4db2-a471-f393813bb0db",
   "metadata": {},
   "outputs": [
    {
     "name": "stdout",
     "output_type": "stream",
     "text": [
      "{'userId': 1, 'movieId': 47, 'rating': 5.0, 'timestamp': 964983815}\n",
      "{'userId': 1, 'movieId': 50, 'rating': 5.0, 'timestamp': 964982931}\n",
      "{'userId': 1, 'movieId': 101, 'rating': 5.0, 'timestamp': 964980868}\n",
      "{'userId': 1, 'movieId': 151, 'rating': 5.0, 'timestamp': 964984041}\n",
      "{'userId': 1, 'movieId': 157, 'rating': 5.0, 'timestamp': 964984100}\n"
     ]
    }
   ],
   "source": [
    "res = es.search(\n",
    "    index=\"ratings\",\n",
    "    query={\n",
    "        \"range\": {\n",
    "            \"rating\": { \"gt\": 4.5 }\n",
    "        }\n",
    "    },\n",
    "    size=5\n",
    ")\n",
    "\n",
    "for hit in res[\"hits\"][\"hits\"]:\n",
    "    print(hit[\"_source\"])\n"
   ]
  },
  {
   "cell_type": "code",
   "execution_count": null,
   "id": "daa70748-d788-4ef5-8a84-92fa2d2f1a62",
   "metadata": {},
   "outputs": [],
   "source": [
    "##############MongoDB"
   ]
  },
  {
   "cell_type": "code",
   "execution_count": 25,
   "id": "82d47162-451b-4c95-abd1-58ea989a36bf",
   "metadata": {},
   "outputs": [
    {
     "name": "stdout",
     "output_type": "stream",
     "text": [
      "Collecting pymongo\n",
      "  Obtaining dependency information for pymongo from https://files.pythonhosted.org/packages/45/bd/d6286b923e852dc080330182a8b57023555870d875b7523454ad1bdd1579/pymongo-4.13.0-cp311-cp311-win_amd64.whl.metadata\n",
      "  Downloading pymongo-4.13.0-cp311-cp311-win_amd64.whl.metadata (22 kB)\n",
      "Collecting dnspython<3.0.0,>=1.16.0 (from pymongo)\n",
      "  Obtaining dependency information for dnspython<3.0.0,>=1.16.0 from https://files.pythonhosted.org/packages/68/1b/e0a87d256e40e8c888847551b20a017a6b98139178505dc7ffb96f04e954/dnspython-2.7.0-py3-none-any.whl.metadata\n",
      "  Using cached dnspython-2.7.0-py3-none-any.whl.metadata (5.8 kB)\n",
      "Downloading pymongo-4.13.0-cp311-cp311-win_amd64.whl (848 kB)\n",
      "   ---------------------------------------- 0.0/848.1 kB ? eta -:--:--\n",
      "   ---------------------------------------- 10.2/848.1 kB ? eta -:--:--\n",
      "   - ------------------------------------- 41.0/848.1 kB 487.6 kB/s eta 0:00:02\n",
      "   ----- ---------------------------------- 122.9/848.1 kB 1.0 MB/s eta 0:00:01\n",
      "   -------- ------------------------------- 174.1/848.1 kB 1.0 MB/s eta 0:00:01\n",
      "   ------------- -------------------------- 276.5/848.1 kB 1.2 MB/s eta 0:00:01\n",
      "   ------------------ --------------------- 389.1/848.1 kB 1.5 MB/s eta 0:00:01\n",
      "   -------------------------- ------------- 553.0/848.1 kB 1.7 MB/s eta 0:00:01\n",
      "   --------------------------- ------------ 583.7/848.1 kB 1.7 MB/s eta 0:00:01\n",
      "   --------------------------------- ------ 716.8/848.1 kB 1.8 MB/s eta 0:00:01\n",
      "   ---------------------------------------- 848.1/848.1 kB 1.9 MB/s eta 0:00:00\n",
      "Using cached dnspython-2.7.0-py3-none-any.whl (313 kB)\n",
      "Installing collected packages: dnspython, pymongo\n",
      "Successfully installed dnspython-2.7.0 pymongo-4.13.0\n",
      "Note: you may need to restart the kernel to use updated packages.\n"
     ]
    }
   ],
   "source": [
    "pip install pymongo\n"
   ]
  },
  {
   "cell_type": "code",
   "execution_count": 26,
   "id": "a3396b32-af28-4dba-bddd-bb654d849255",
   "metadata": {},
   "outputs": [],
   "source": [
    "from pymongo import MongoClient\n",
    "import csv\n"
   ]
  },
  {
   "cell_type": "code",
   "execution_count": 27,
   "id": "3094abb6",
   "metadata": {},
   "outputs": [],
   "source": [
    "client = MongoClient(\"mongodb://localhost:27017\")\n",
    "db = client[\"moviesdb\"]\n",
    "ratings_collection = db[\"ratings\"]\n"
   ]
  },
  {
   "cell_type": "code",
   "execution_count": 28,
   "id": "9894d773",
   "metadata": {},
   "outputs": [],
   "source": [
    "documents = []\n",
    "with open(\"ratings.csv\", \"r\", encoding=\"utf-8\") as f:\n",
    "    reader = csv.reader(f)\n",
    "    header = next(reader)\n",
    "    for row in reader:\n",
    "        doc = {\n",
    "            \"userId\": int(row[0]),\n",
    "            \"movieId\": int(row[1]),\n",
    "            \"rating\": float(row[2]),\n",
    "            \"timestamp\": int(row[3])\n",
    "        }\n",
    "        documents.append(doc)\n"
   ]
  },
  {
   "cell_type": "code",
   "execution_count": 29,
   "id": "9232a099",
   "metadata": {},
   "outputs": [
    {
     "name": "stdout",
     "output_type": "stream",
     "text": [
      "Documents insérés : 100836\n"
     ]
    }
   ],
   "source": [
    "if documents:\n",
    "    result = ratings_collection.insert_many(documents)\n",
    "    print(f\"Documents insérés : {len(result.inserted_ids)}\")\n",
    "else:\n",
    "    print(\"Aucune donnée à insérer.\")\n"
   ]
  },
  {
   "cell_type": "code",
   "execution_count": 30,
   "id": "d2aaf8d8",
   "metadata": {},
   "outputs": [
    {
     "name": "stdout",
     "output_type": "stream",
     "text": [
      "{'_id': ObjectId('6833d910eb7d5b40dc80cbaa'), 'userId': 1, 'movieId': 1, 'rating': 4.0, 'timestamp': 964982703}\n",
      "{'_id': ObjectId('6833d910eb7d5b40dc80cbab'), 'userId': 1, 'movieId': 3, 'rating': 4.0, 'timestamp': 964981247}\n",
      "{'_id': ObjectId('6833d910eb7d5b40dc80cbac'), 'userId': 1, 'movieId': 6, 'rating': 4.0, 'timestamp': 964982224}\n",
      "{'_id': ObjectId('6833d910eb7d5b40dc80cbad'), 'userId': 1, 'movieId': 47, 'rating': 5.0, 'timestamp': 964983815}\n",
      "{'_id': ObjectId('6833d910eb7d5b40dc80cbae'), 'userId': 1, 'movieId': 50, 'rating': 5.0, 'timestamp': 964982931}\n"
     ]
    }
   ],
   "source": [
    "for doc in ratings_collection.find().limit(5):\n",
    "    print(doc)\n"
   ]
  },
  {
   "cell_type": "code",
   "execution_count": 31,
   "id": "16d51a9c",
   "metadata": {},
   "outputs": [],
   "source": [
    "client.close()\n"
   ]
  },
  {
   "cell_type": "code",
   "execution_count": null,
   "id": "a239a159",
   "metadata": {},
   "outputs": [],
   "source": []
  }
 ],
 "metadata": {
  "kernelspec": {
   "display_name": "Python 3 (ipykernel)",
   "language": "python",
   "name": "python3"
  },
  "language_info": {
   "codemirror_mode": {
    "name": "ipython",
    "version": 3
   },
   "file_extension": ".py",
   "mimetype": "text/x-python",
   "name": "python",
   "nbconvert_exporter": "python",
   "pygments_lexer": "ipython3",
   "version": "3.11.5"
  }
 },
 "nbformat": 4,
 "nbformat_minor": 5
}
